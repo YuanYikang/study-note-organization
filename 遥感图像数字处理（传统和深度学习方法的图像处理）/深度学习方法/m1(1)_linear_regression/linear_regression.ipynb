{
 "cells": [
  {
   "cell_type": "markdown",
   "metadata": {},
   "source": [
    "##### 线性回归(70)\n",
    "Author: Wei Jiangnan 2024.9\n",
    "##### 简介\n",
    "本作业需要你实现采用`随机梯度下降`算法优化的`线性回归`，基于 'data.csv' 中给定的数据预测下一天的最高气温和最低气温（倒数第二行和倒数第一行）。算法的目标是迭代地更新 `w` 和 `b` 以优化模型。本次作业需要完整地完成从数据读取、预处理、训练、评估到可视化的整个流程。\n",
    "##### 任务\n",
    "1. 读取数据集，将数据集分为训练集和测试集。(10)\n",
    "2. 训练模型，使用随机梯度下降算法优化线性回归模型。 (30)\n",
    "3. 测试模型，计算测试集上的准确率。 (10)\n",
    "4. 可视化训练过程中训练集和测试集上的loss。 (10)\n",
    "5. 在测试集上任选一条数据，输出其预测值和真实值（无需实现，前几步算法正确的情况下预测值与真实值相近即可）。 (10)\n",
    "##### 提示\n",
    "1. **形状**  注意数据的形状，特别是矩阵的形状。你可以使用`x.shape`查看矩阵`m`的形状。\n",
    "2. **预处理**  归一化有助于模型的收敛，你可以尝试不进行归一化，并查看训练效果。\n",
    "3. **误差**  误差包括归一化前的误差和归一化后的误差，归一化前的误差具有物理意义，即温度的均方误差。\n",
    "##### **注意:** 不要修改已经提供的代码。"
   ]
  },
  {
   "cell_type": "code",
   "execution_count": 1,
   "metadata": {},
   "outputs": [],
   "source": [
    "import numpy as np\n",
    "import pandas as pd\n",
    "import matplotlib.pyplot as plt\n",
    "import random"
   ]
  },
  {
   "cell_type": "markdown",
   "metadata": {},
   "source": [
    "##### 归一化和反归一化"
   ]
  },
  {
   "cell_type": "code",
   "execution_count": 2,
   "metadata": {},
   "outputs": [],
   "source": [
    "def normalize(data):\n",
    "    '''\n",
    "    Args:\n",
    "        data: data to be normalized\n",
    "    Returns:\n",
    "        normalized data, mean, std\n",
    "    '''\n",
    "    mean = np.mean(data, axis=0)\n",
    "    std = np.std(data, axis=0)\n",
    "    return (data - mean) / std, mean, std"
   ]
  },
  {
   "cell_type": "code",
   "execution_count": 3,
   "metadata": {},
   "outputs": [],
   "source": [
    "def denormalize(data, mean, std):\n",
    "    '''\n",
    "    Args:   \n",
    "        data: data to be denormalized\n",
    "        mean: mean of the data\n",
    "        std: std of the data    \n",
    "    Returns:\n",
    "        denormalized data\n",
    "    '''\n",
    "    return data * std + mean"
   ]
  },
  {
   "cell_type": "markdown",
   "metadata": {},
   "source": [
    "##### 加载数据"
   ]
  },
  {
   "cell_type": "code",
   "execution_count": 4,
   "metadata": {},
   "outputs": [],
   "source": [
    "def load_data(path):\n",
    "    '''\n",
    "    Args:\n",
    "        path: 数据路径\n",
    "    Returns:\n",
    "        X_train: 训练集数据\n",
    "        X_test: 测试集数据\n",
    "        y_train_Tmax: 训练集Tmax标签\n",
    "        y_test_Tmax: 测试集Tmax标签\n",
    "        y_train_Tmin: 训练集Tmin标签\n",
    "        y_test_Tmin: 测试集Tmin标签\n",
    "        mean: 训练集数据的均值\n",
    "        std: 训练集数据的标准差\n",
    "    '''\n",
    "    ## 从路径中读取数据\n",
    "    data = pd.read_csv(path, sep=',', header=None)\n",
    "    # 数据的第一行当成数据，格式是DataFrame\n",
    "    # data=pd.read_csv(\".\\\\data.csv\",sep=',',header=None)\n",
    "    ## 补全此处代码\n",
    "    ## 删除data的缺失值(NaN)\n",
    "    data=data.dropna()\n",
    "    \n",
    "    ## 删除data的前两列和第一行，相当于只要第一行且第三列以后的数据\n",
    "    data=data.iloc[1:,2:]\n",
    "\n",
    "    ## 将data转换为numpy数组,并将数据类型转换为float\n",
    "    data=data.to_numpy().astype(float)\n",
    "\n",
    "    ## 将data归一化,并保存每一列的mean和std\n",
    "    data, mean, std=normalize(data)\n",
    "\n",
    "    ## 将数据分为训练集和测试集,比例为3:1\n",
    "    test_ratio = 0.25\n",
    "    # 在range(len(data))的索引内，选择int(len(data)*test_ratio)个数，random.sample()随机选取test_ratio比例的数据作为测试集\n",
    "    # 标记索引\n",
    "    test_label=random.sample(range(len(data)),int(len(data)*test_ratio))\n",
    "    # 集合求差\n",
    "    train_label=list(set(range(len(data)))-set(test_label))\n",
    "    test_data=data[test_label]\n",
    "    train_data=data[train_label]\n",
    "    ## 将数据分为X和y\n",
    "    ## 本题中需要预测两个y，包括Tmax和Tmin\n",
    "    X_train = train_data[:, :-2]\n",
    "    X_test = test_data[:, :-2]\n",
    "    y_train_Tmax = train_data[:, -2].reshape(-1, 1)# 行向量变成列向量\n",
    "    y_test_Tmax = test_data[:, -2].reshape(-1, 1)\n",
    "    y_train_Tmin = train_data[:, -1].reshape(-1, 1)\n",
    "    y_test_Tmin = test_data[:, -1].reshape(-1, 1)\n",
    "    return X_train, X_test, y_train_Tmax, y_test_Tmax, y_train_Tmin, y_test_Tmin, mean, std"
   ]
  },
  {
   "cell_type": "markdown",
   "metadata": {},
   "source": [
    "##### 实现梯度下降的迭代器"
   ]
  },
  {
   "cell_type": "code",
   "execution_count": 5,
   "metadata": {},
   "outputs": [],
   "source": [
    "def get_batch(X, y, batch_size):\n",
    "    '''\n",
    "    Args:\n",
    "        X: 训练集数据\n",
    "        y: 训练集标签\n",
    "        batch_size: 批次大小\n",
    "    Returns:\n",
    "        一个批次的数据\n",
    "    '''\n",
    "    ## 生成一个批次的数据\n",
    "    for index_now in range(0,len(X),batch_size):\n",
    "        yield X[index_now:min(index_now+batch_size,len(X))],y[index_now:min(index_now+batch_size,len(X))]"
   ]
  },
  {
   "cell_type": "code",
   "execution_count": 6,
   "metadata": {},
   "outputs": [],
   "source": [
    "X_train, X_test, y_train_Tmax, y_test_Tmax, y_train_Tmin, y_test_Tmin, mean,std = load_data('.\\\\data.csv')"
   ]
  },
  {
   "cell_type": "markdown",
   "metadata": {},
   "source": [
    "##### 前向传播、计算损失和反向传播"
   ]
  },
  {
   "cell_type": "code",
   "execution_count": 7,
   "metadata": {},
   "outputs": [],
   "source": [
    "def forward(X, w, b):\n",
    "    '''\n",
    "    Args:\n",
    "        X: 输入数据\n",
    "        w: 权重\n",
    "        b: 偏置\n",
    "    Returns:    \n",
    "        y: 预测值\n",
    "    '''\n",
    "    ## 前向传播，也就是说用当前的w和b来计算y（预测下一天的值）\n",
    "    ## 补全此处代码\n",
    "    y=np.dot(X,w)+b\n",
    "    return y"
   ]
  },
  {
   "cell_type": "code",
   "execution_count": 8,
   "metadata": {},
   "outputs": [],
   "source": [
    "def loss(y_true, y_pred):\n",
    "    '''\n",
    "    Args:\n",
    "        y_true: 真实值\n",
    "        y_pred: 预测值\n",
    "    Returns:\n",
    "        均方误差损失\n",
    "    '''\n",
    "    ## 计算均方误差损失\n",
    "    ## 补全此处代码\n",
    "    loss=np.mean((y_true-y_pred)**2)\n",
    "    return loss"
   ]
  },
  {
   "cell_type": "code",
   "execution_count": 9,
   "metadata": {},
   "outputs": [],
   "source": [
    "def gradient(X, y_true, y_pred):\n",
    "    '''\n",
    "    Args:\n",
    "        X: 输入数据\n",
    "        y_true: 真实值\n",
    "        y_pred: 预测值\n",
    "    Returns:\n",
    "        w的梯度, b的梯度\n",
    "    '''\n",
    "    ## 计算w,b的梯度\n",
    "    ## 补全此处代码\n",
    "    dw = -2 * np.dot(X.T, (y_true - y_pred)) / len(y_true)\n",
    "    db = -2 * np.mean(y_true - y_pred)\n",
    "    return dw, db\n",
    "    "
   ]
  },
  {
   "cell_type": "markdown",
   "metadata": {},
   "source": [
    "##### 训练"
   ]
  },
  {
   "cell_type": "code",
   "execution_count": 10,
   "metadata": {},
   "outputs": [],
   "source": [
    "def train(X_train, y_train, X_test, y_test, batch_size, lr, epoches):\n",
    "    '''\n",
    "    Args:\n",
    "        X_train: 训练集数据\n",
    "        y_train: 训练集标签\n",
    "        X_test: 测试集数据\n",
    "        y_test: 测试集标签\n",
    "        batch_size: 批次大小\n",
    "        lr: 学习率\n",
    "        epoches: 迭代次数\n",
    "    Returns:\n",
    "        best_w: 最优w\n",
    "        best_b: 最优b\n",
    "        train_losses: 训练集损失\n",
    "        test_losses: 测试集损失\n",
    "    '''\n",
    "    ## 初始化参数，高斯分布(一开始的参数是随机的，有多少个样本就有多少个参数)\n",
    "    w = np.random.normal(size=(X_train.shape[1], 1))\n",
    "    b = 0\n",
    "    ## 记录训练过程中的损失值\n",
    "    train_losses = []\n",
    "    test_losses = []\n",
    "    ## 最优参数\n",
    "    best_w = None\n",
    "    best_b = None\n",
    "    ## 训练\n",
    "    for epoch in range(epoches):\n",
    "        ## 随机梯度下降\n",
    "        train_loss_sum = 0\n",
    "        for X_batch, y_batch in get_batch(X_train, y_train, batch_size):\n",
    "            ## 计算y_hat, dw, db（计算预测值）\n",
    "            ## 补全此处代码\n",
    "            y_hat=forward(X_batch,w,b)\n",
    "            train_loss=loss(y_batch,y_hat)\n",
    "            dw,db=gradient(X_batch,y_batch,y_hat)\n",
    "            w -= lr * dw\n",
    "            b -= lr * db\n",
    "            ## 更新loss的和\n",
    "            ## 补全此处代码，注意求平均是对于训练集样本数的平均\n",
    "            train_loss_sum+=train_loss\n",
    "\n",
    "        train_losses.append(train_loss_sum / (len(X_train)//batch_size+1))\n",
    "        ## 计算测试集上的损失test_loss\n",
    "        ## 补全此处代码\n",
    "        y_pred=forward(X_test,w,b)\n",
    "        test_loss=loss(y_test,y_pred)\n",
    "        test_losses.append(test_loss)\n",
    "        ## 输出训练过程中的loss\n",
    "        print('epoch: {}, train loss: {}, test loss: {}'.format(epoch, train_losses[-1], test_losses[-1]))\n",
    "        ## 记录最优的参数\n",
    "        if epoch == 0 or test_loss < min(test_losses[:-1]):\n",
    "            best_w = w[:,:]\n",
    "            best_b = b\n",
    "    return best_w, best_b, train_losses, test_losses"
   ]
  },
  {
   "cell_type": "code",
   "execution_count": 11,
   "metadata": {},
   "outputs": [
    {
     "name": "stdout",
     "output_type": "stream",
     "text": [
      "epoch: 0, train loss: 22.70463780023833, test loss: 13.49892739926008\n",
      "epoch: 1, train loss: 10.862994215583102, test loss: 7.60326650818411\n",
      "epoch: 2, train loss: 6.577779175905282, test loss: 4.937485940696483\n",
      "epoch: 3, train loss: 4.462665761705448, test loss: 3.483243246188953\n",
      "epoch: 4, train loss: 3.2388447452908147, test loss: 2.5949281721140434\n",
      "epoch: 5, train loss: 2.4604419915304736, test loss: 2.0101827473388836\n",
      "epoch: 6, train loss: 1.932986199945665, test loss: 1.6040691623405434\n",
      "epoch: 7, train loss: 1.5585558225846448, test loss: 1.310360465696782\n",
      "epoch: 8, train loss: 1.2830538855920302, test loss: 1.0912041594939261\n",
      "epoch: 9, train loss: 1.0746004726230387, test loss: 0.9236829711692306\n",
      "epoch: 10, train loss: 0.9134290604135082, test loss: 0.7932365541183192\n",
      "epoch: 11, train loss: 0.7867292323975054, test loss: 0.690210630953323\n",
      "epoch: 12, train loss: 0.6858576952237252, test loss: 0.6079544205412175\n",
      "epoch: 13, train loss: 0.6047663183163192, test loss: 0.5417294224121891\n",
      "epoch: 14, train loss: 0.5390851921489617, test loss: 0.4880610858529403\n",
      "epoch: 15, train loss: 0.48557009983389815, test loss: 0.44434021847813987\n",
      "epoch: 16, train loss: 0.4417584015848613, test loss: 0.40856940343865\n",
      "epoch: 17, train loss: 0.4057473151199799, test loss: 0.37919607999057503\n",
      "epoch: 18, train loss: 0.3760460926502253, test loss: 0.3549989828746248\n",
      "epoch: 19, train loss: 0.3514741554842129, test loss: 0.33500846643072185\n",
      "epoch: 20, train loss: 0.3310887230070356, test loss: 0.31844903631645083\n",
      "epoch: 21, train loss: 0.3141319910755383, test loss: 0.3046968966886878\n",
      "epoch: 22, train loss: 0.29999168612622157, test loss: 0.29324795545122523\n",
      "epoch: 23, train loss: 0.28817104807716404, test loss: 0.2836933134363603\n",
      "epoch: 24, train loss: 0.2782656403117998, test loss: 0.27570023844640873\n",
      "epoch: 25, train loss: 0.26994521859856363, test loss: 0.2689972415883815\n",
      "epoch: 26, train loss: 0.2629394218037857, test loss: 0.26336227403793955\n",
      "epoch: 27, train loss: 0.2570263954918188, test loss: 0.2586133302029316\n",
      "epoch: 28, train loss: 0.25202369468030444, test loss: 0.2546009272554492\n",
      "epoch: 29, train loss: 0.2477809754034883, test loss: 0.2512020607153038\n",
      "epoch: 30, train loss: 0.24417410126331812, test loss: 0.24831532938615902\n",
      "epoch: 31, train loss: 0.2411003762164486, test loss: 0.24585699192310942\n",
      "epoch: 32, train loss: 0.23847467820454143, test loss: 0.24375776903892465\n",
      "epoch: 33, train loss: 0.23622631622157167, test loss: 0.24196024472672192\n",
      "epoch: 34, train loss: 0.2342964702557569, test loss: 0.2404167502087516\n",
      "epoch: 35, train loss: 0.23263610214624356, test loss: 0.2390876379223047\n",
      "epoch: 36, train loss: 0.2312042477960999, test loss: 0.23793987136631306\n",
      "epoch: 37, train loss: 0.22996661885202746, test loss: 0.2369458712482697\n",
      "epoch: 38, train loss: 0.22889445597630886, test loss: 0.23608256997223676\n",
      "epoch: 39, train loss: 0.22796358700430402, test loss: 0.23533063575706806\n",
      "epoch: 40, train loss: 0.22715365221306213, test loss: 0.23467383507340545\n",
      "epoch: 41, train loss: 0.2264474660930099, test loss: 0.2340985080261412\n",
      "epoch: 42, train loss: 0.22583049077937542, test loss: 0.23359313608680637\n",
      "epoch: 43, train loss: 0.22529040094761096, test loss: 0.23314798543308266\n",
      "epoch: 44, train loss: 0.2248167237314309, test loss: 0.2327548122655449\n",
      "epoch: 45, train loss: 0.22440054026018963, test loss: 0.23240661899128073\n",
      "epoch: 46, train loss: 0.2240342378747287, test loss: 0.2320974522065289\n",
      "epoch: 47, train loss: 0.223711304079534, test loss: 0.2318222350686441\n",
      "epoch: 48, train loss: 0.22342615491358653, test loss: 0.23157662799564682\n",
      "epoch: 49, train loss: 0.2231739917444118, test loss: 0.231356912728765\n"
     ]
    }
   ],
   "source": [
    "w_Tmax, b_Tmax, train_losses_Tmax, test_losses_Tmax = train(X_train, y_train_Tmax, X_test, y_test_Tmax, 300, 0.01, 50)"
   ]
  },
  {
   "cell_type": "code",
   "execution_count": 12,
   "metadata": {},
   "outputs": [
    {
     "name": "stdout",
     "output_type": "stream",
     "text": [
      "epoch: 0, train loss: 5.774914585001764, test loss: 3.861910250526999\n",
      "epoch: 1, train loss: 2.639816983786336, test loss: 2.138882501094996\n",
      "epoch: 2, train loss: 1.5845109695107127, test loss: 1.3782341484368636\n",
      "epoch: 3, train loss: 1.07930534668735, test loss: 0.978753746459449\n",
      "epoch: 4, train loss: 0.799903620811216, test loss: 0.7471480772707254\n",
      "epoch: 5, train loss: 0.6318027934649604, test loss: 0.6033304070792798\n",
      "epoch: 6, train loss: 0.5243636716999333, test loss: 0.5089617203036149\n",
      "epoch: 7, train loss: 0.4521426609371673, test loss: 0.4439576011984087\n",
      "epoch: 8, train loss: 0.4013303304394138, test loss: 0.3971565329433206\n",
      "epoch: 9, train loss: 0.36405143593715455, test loss: 0.3620903123225628\n",
      "epoch: 10, train loss: 0.33565290229552786, test loss: 0.33488345336241426\n",
      "epoch: 11, train loss: 0.31330328717168077, test loss: 0.3131432551280913\n",
      "epoch: 12, train loss: 0.29523059599187956, test loss: 0.29534810901894976\n",
      "epoch: 13, train loss: 0.28029315359243046, test loss: 0.2805002051944352\n",
      "epoch: 14, train loss: 0.26773222326572166, test loss: 0.2679238369698169\n",
      "epoch: 15, train loss: 0.25702675873058783, test loss: 0.25714602325086205\n",
      "epoch: 16, train loss: 0.24780673134057962, test loss: 0.247824607092959\n",
      "epoch: 17, train loss: 0.23980057761667647, test loss: 0.2397041830592268\n",
      "epoch: 18, train loss: 0.2328027864063716, test loss: 0.232588572684013\n",
      "epoch: 19, train loss: 0.2266535225616717, test loss: 0.22632327672249836\n",
      "epoch: 20, train loss: 0.2212255368968262, test loss: 0.22078402834322125\n",
      "epoch: 21, train loss: 0.21641554889013018, test loss: 0.21586913492124327\n",
      "epoch: 22, train loss: 0.21213841878493717, test loss: 0.21149421322706277\n",
      "epoch: 23, train loss: 0.20832309123751822, test loss: 0.2075884662021009\n",
      "epoch: 24, train loss: 0.2049096878464038, test loss: 0.204091974531153\n",
      "epoch: 25, train loss: 0.2018473625612056, test loss: 0.20095367247778845\n",
      "epoch: 26, train loss: 0.1990926769691621, test loss: 0.19812979714363682\n",
      "epoch: 27, train loss: 0.19660833972041328, test loss: 0.19558267411859478\n",
      "epoch: 28, train loss: 0.1943622082068297, test loss: 0.1932797485652906\n",
      "epoch: 29, train loss: 0.1923264842837936, test loss: 0.1911927999555838\n",
      "epoch: 30, train loss: 0.19047705720678457, test loss: 0.1892972974510234\n",
      "epoch: 31, train loss: 0.18879296077654972, test loss: 0.18757186522479483\n",
      "epoch: 32, train loss: 0.18725592080554912, test loss: 0.18599783525547725\n",
      "epoch: 33, train loss: 0.1858499751726914, test loss: 0.18455887075493838\n",
      "epoch: 34, train loss: 0.18456115298964723, test loss: 0.18324064733691128\n",
      "epoch: 35, train loss: 0.18337720242102443, test loss: 0.18203058186163976\n",
      "epoch: 36, train loss: 0.18228735889651926, test loss: 0.1809176009687929\n",
      "epoch: 37, train loss: 0.18128214708894355, test loss: 0.17989194286958896\n",
      "epoch: 38, train loss: 0.18035321127759577, test loss: 0.1789449871628147\n",
      "epoch: 39, train loss: 0.17949316968345888, test loss: 0.17806910837017448\n",
      "epoch: 40, train loss: 0.1786954891260773, test loss: 0.17725754962345028\n",
      "epoch: 41, train loss: 0.1779543769630861, test loss: 0.17650431352737483\n",
      "epoch: 42, train loss: 0.17726468776830606, test loss: 0.17580406770198165\n",
      "epoch: 43, train loss: 0.1766218426090092, test loss: 0.175152062901167\n",
      "epoch: 44, train loss: 0.176021759116439, test loss: 0.1745440619284977\n",
      "epoch: 45, train loss: 0.17546079082023994, test loss: 0.17397627784065373\n",
      "epoch: 46, train loss: 0.17493567444803884, test loss: 0.17344532015381867\n",
      "epoch: 47, train loss: 0.17444348408452937, test loss: 0.17294814795701643\n",
      "epoch: 48, train loss: 0.17398159124673734, test loss: 0.1724820289952874\n",
      "epoch: 49, train loss: 0.1735476300690438, test loss: 0.1720445039198609\n"
     ]
    }
   ],
   "source": [
    "w_Tmin, b_Tmin, train_losses_Tmin, test_losses_Tmin = train(X_train, y_train_Tmin, X_test, y_test_Tmin, 300, 0.01, 50)"
   ]
  },
  {
   "cell_type": "markdown",
   "metadata": {},
   "source": [
    "##### 输出结果"
   ]
  },
  {
   "cell_type": "code",
   "execution_count": 13,
   "metadata": {},
   "outputs": [
    {
     "name": "stdout",
     "output_type": "stream",
     "text": [
      "loss of Tmax:  0.231356912728765 loss of Tmin:  0.1720445039198609\n",
      "MSE of Tmax in Celsius:  2.2400131522665405 , MSE of Tmin in Celsius:  1.059928408270574\n"
     ]
    }
   ],
   "source": [
    "print('loss of Tmax: ', min(test_losses_Tmax), 'loss of Tmin: ', min(test_losses_Tmin))\n",
    "print('MSE of Tmax in Celsius: ', min(test_losses_Tmax) * std[-2] ** 2, ', MSE of Tmin in Celsius: ', min(test_losses_Tmin) * std[-1] ** 2)"
   ]
  },
  {
   "cell_type": "markdown",
   "metadata": {},
   "source": [
    "##### 可视化"
   ]
  },
  {
   "cell_type": "code",
   "execution_count": 14,
   "metadata": {},
   "outputs": [
    {
     "data": {
      "image/png": "[encoded data removed]",
      "text/plain": [
       "<Figure size 800x600 with 1 Axes>"
      ]
     },
     "metadata": {},
     "output_type": "display_data"
    }
   ],
   "source": [
    "## 画出训练过程中的训练集和测试集上的loss变化曲线\n",
    "## 补全此处代码\n",
    "plt.figure(figsize=(8, 6))\n",
    "plt.plot(train_losses_Tmax,label='train_loss_Tmax')\n",
    "plt.plot(test_losses_Tmax,label='test_loss_Tmax')\n",
    "plt.plot(train_losses_Tmin,label='train_loss_Tmin')\n",
    "plt.plot(test_losses_Tmin,label='test_loss_Tmin')\n",
    "plt.title('loss of Tmax and Tmin')\n",
    "plt.xlabel('epoch')\n",
    "plt.ylabel('loss')\n",
    "plt.legend()\n",
    "plt.show()"
   ]
  },
  {
   "cell_type": "markdown",
   "metadata": {},
   "source": [
    "##### 在测试集上任选一条数据，输出其预测值和真实值"
   ]
  },
  {
   "cell_type": "code",
   "execution_count": 15,
   "metadata": {},
   "outputs": [],
   "source": [
    "## 预测归一化前的真实温度\n",
    "def predict(X, w, b, Tmax=True):\n",
    "    ## 补全此处代码,Tmax=True表示预测Tmax，否则预测Tmin\n",
    "    # 反归一化\n",
    "    y_pred = forward(X, w, b)\n",
    "    if Tmax:\n",
    "        return denormalize(y_pred, mean[-2], std[-2])\n",
    "    else:\n",
    "        return denormalize(y_pred, mean[-1], std[-1])\n",
    "\n"
   ]
  },
  {
   "cell_type": "code",
   "execution_count": 16,
   "metadata": {},
   "outputs": [
    {
     "name": "stdout",
     "output_type": "stream",
     "text": [
      "predict Tmax: [31.55763573] true Tmax: [28.6]\n",
      "predict Tmin: [22.31686222] true Tmin: [23.4]\n"
     ]
    }
   ],
   "source": [
    "print('predict Tmax:',predict(X_test[0], w_Tmax, b_Tmax,True), 'true Tmax:',y_test_Tmax[0]*std[-2]+mean[-2])\n",
    "print('predict Tmin:',predict(X_test[0], w_Tmin, b_Tmin,False), 'true Tmin:',y_test_Tmin[0]*std[-1]+mean[-1])"
   ]
  },
  {
   "cell_type": "markdown",
   "metadata": {},
   "source": [
    "# 笔记\n",
    "梯度下降是一种优化算法，广泛用于机器学习和深度学习模型的训练中。其主要目的是通过迭代地调整模型参数，最小化损失函数，从而提高模型的性能。\n",
    "\n",
    "### 梯度下降算法的基本步骤：\n",
    "\n",
    "1. **初始化参数**：随机初始化模型参数（例如线性回归中的权重和偏置）。\n",
    "\n",
    "2. **计算损失**：使用当前参数计算损失函数的值。损失函数衡量模型预测值与真实值之间的差异。\n",
    "\n",
    "3. **计算梯度**：计算损失函数相对于每个参数的梯度。梯度是损失函数在参数空间中的导数，指示了损失函数增加最快的方向。\n",
    "\n",
    "4. **更新参数**：根据梯度更新参数。更新公式为：\n",
    "   \\[\n",
    "   \\theta = \\theta - \\alpha \\cdot \\nabla J(\\theta)\n",
    "   \\]\n",
    "   其中，\\(\\theta\\) 是参数，\\(\\alpha\\) 是学习率，\\(\\nabla J(\\theta)\\) 是损失函数的梯度。\n",
    "\n",
    "5. **重复迭代**：重复步骤 2 到 4，直到损失函数收敛到一个最小值或达到预设的迭代次数。\n",
    "\n",
    "### 梯度下降的变种：\n",
    "\n",
    "- **批量梯度下降（Batch Gradient Descent）**：每次迭代使用整个训练集计算梯度，更新参数。\n",
    "- **随机梯度下降（Stochastic Gradient Descent, SGD）**：每次迭代使用一个样本计算梯度，更新参数。\n",
    "- **小批量梯度下降（Mini-batch Gradient Descent）**：每次迭代使用一个小批量样本计算梯度，更新参数。\n",
    "\n",
    "### 梯度下降的优缺点：\n",
    "\n",
    "- **优点**：\n",
    "  - 简单易实现。\n",
    "  - 适用于大规模数据集。\n",
    "\n",
    "- **缺点**：\n",
    "  - 选择合适的学习率较为困难。\n",
    "  - 可能陷入局部最小值或鞍点。\n",
    "  - 对于非凸函数，可能无法找到全局最小值。\n",
    "\n",
    "### 应用场景：\n",
    "\n",
    "梯度下降广泛应用于各种机器学习算法中，如线性回归、逻辑回归、神经网络等。在这些算法中，梯度下降用于优化模型参数，以最小化损失函数，从而提高模型的预测性能。"
   ]
  }
 ],
 "metadata": {
  "kernelspec": {
   "display_name": "remote_sense",
   "language": "python",
   "name": "python3"
  },
  "language_info": {
   "codemirror_mode": {
    "name": "ipython",
    "version": 3
   },
   "file_extension": ".py",
   "mimetype": "text/x-python",
   "name": "python",
   "nbconvert_exporter": "python",
   "pygments_lexer": "ipython3",
   "version": "3.12.5"
  },
  "orig_nbformat": 4
 },
 "nbformat": 4,
 "nbformat_minor": 2
}
