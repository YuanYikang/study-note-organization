{
 "cells": [
  {
   "cell_type": "markdown",
   "id": "abde3cdd",
   "metadata": {},
   "source": [
    "# 作业1：Numpy、Opencv和Matplotlib入门\n",
    "Author: Wei Jiangnan 2024.9"
   ]
  },
  {
   "cell_type": "markdown",
   "id": "12b40fc9",
   "metadata": {},
   "source": [
    "## 1. Numpy的使用（40）\n",
    "+ 提示：每一个单独操作或输出均可采用一条命令完成，而非使用for循环，这是Numpy库的一个巨大优势。"
   ]
  },
  {
   "cell_type": "code",
   "execution_count": 3,
   "id": "1b1d5e0d",
   "metadata": {},
   "outputs": [],
   "source": [
    "import numpy as np"
   ]
  },
  {
   "cell_type": "markdown",
   "id": "f76b3994",
   "metadata": {},
   "source": [
    "### 1-1 固定Numpy的随机种子为42。（1）"
   ]
  },
  {
   "cell_type": "code",
   "execution_count": null,
   "id": "173249d3",
   "metadata": {},
   "outputs": [],
   "source": []
  },
  {
   "cell_type": "markdown",
   "id": "04622981",
   "metadata": {},
   "source": [
    "### 1-2 生成一个大小为3\\*28\\*28的Numpy数组a，服从$N(0,1)$。（2）"
   ]
  },
  {
   "cell_type": "code",
   "execution_count": null,
   "id": "23fe44b2",
   "metadata": {},
   "outputs": [],
   "source": []
  },
  {
   "cell_type": "markdown",
   "id": "310062f0",
   "metadata": {},
   "source": [
    "### 1-3 输出a的形状、均值、标准差和中位数。（1\\*4=4）"
   ]
  },
  {
   "cell_type": "code",
   "execution_count": null,
   "id": "07e093ae",
   "metadata": {},
   "outputs": [],
   "source": []
  },
  {
   "cell_type": "markdown",
   "id": "212f918b",
   "metadata": {},
   "source": [
    "### 1-4 计算（2\\*3=6）：\n",
    "+ a在第2维度下均值 b2。\n",
    "+ a在第1和2维度下的均值 b12。\n",
    "+ 输出b2，b12的形状。\n",
    "+ 提示：维度下标同样从0开始。"
   ]
  },
  {
   "cell_type": "code",
   "execution_count": null,
   "id": "3e4480db",
   "metadata": {},
   "outputs": [],
   "source": []
  },
  {
   "cell_type": "markdown",
   "id": "1044c46a",
   "metadata": {},
   "source": [
    "### 1-5 “切掉”a的表面，取出a的内部元素，命名为c，大小应为1\\*26\\*26。（3）"
   ]
  },
  {
   "cell_type": "code",
   "execution_count": null,
   "id": "9837ffd1",
   "metadata": {},
   "outputs": [],
   "source": []
  },
  {
   "cell_type": "markdown",
   "id": "0008c899",
   "metadata": {},
   "source": [
    "### 1-6 对c进行如下操作：\n",
    "#### (1) 将c变形为13\\*52。（2）\n",
    "#### (2) 将c中小于0的元素设置为100，输出c。（3）\n",
    "+ 若你的代码正确，输出的第一个值应为1.96554777e-01。"
   ]
  },
  {
   "cell_type": "code",
   "execution_count": null,
   "id": "9560f27c",
   "metadata": {},
   "outputs": [],
   "source": []
  },
  {
   "cell_type": "markdown",
   "id": "d39af851",
   "metadata": {},
   "source": [
    "### 1-7 定义$G$，$m$，$d_{true}$ 和$d_{noise}$如下：\n",
    "+ $$G=[[1.0, 1.0, 1.0, 1.0],\\\\\n",
    "        [2.0, 2.5, -1.0, 2.0],\\\\\n",
    "        [1.0, 0.0, 0.5, 1.0],\\\\\n",
    "        [4.0,-3.0,0.4,9.0],\\\\\n",
    "        [-2.0,-3.3,0.7,5.0]]（1）$$\n",
    "+ $$m=[[1.0],\\\\\n",
    "        [2.0],\\\\\n",
    "        [3.0],\\\\\n",
    "        [4.0]]（1）$$\n",
    "+ $d_{true}=Gm$（3）\n",
    "+ $d_{noise}=d_{true}+N(0,0.001)$（3）"
   ]
  },
  {
   "cell_type": "code",
   "execution_count": null,
   "id": "4a61541f",
   "metadata": {},
   "outputs": [],
   "source": []
  },
  {
   "cell_type": "markdown",
   "id": "56899811",
   "metadata": {},
   "source": [
    "### 1-8 假设G已知，$d_{noise}$为观测值，求：\n",
    "+ $m$的最小二乘解 $m_{ls}=(G^TG)^{-1}G^Td_{noise}$（4）\n",
    "+ 根据$G$和$m_{ls}$计算$d_{ls}$（4）\n",
    "+ 求$d_{ls}$和$d_{true}$的均方根误差（3）"
   ]
  },
  {
   "cell_type": "code",
   "execution_count": null,
   "id": "9c768413",
   "metadata": {},
   "outputs": [],
   "source": []
  },
  {
   "cell_type": "markdown",
   "id": "6418eeda",
   "metadata": {},
   "source": [
    "在 NumPy 中，关于随机分布和随机数种子的概念主要涉及以下几个方面：\n",
    "\n",
    "1. **随机数生成器**：\n",
    "   - NumPy 提供了 `numpy.random` 模块，用于生成各种随机数。\n",
    "   - 可以生成均匀分布、正态分布、二项分布等多种分布的随机数。\n",
    "\n",
    "   示例：\n",
    "   ```python\n",
    "   import numpy as np\n",
    "\n",
    "   # 生成均匀分布的随机数\n",
    "   uniform_random = np.random.uniform(0, 1, size=10)\n",
    "   print(\"均匀分布的随机数:\", uniform_random)\n",
    "\n",
    "   # 生成正态分布的随机数\n",
    "   normal_random = np.random.normal(0, 1, size=10)\n",
    "   print(\"正态分布的随机数:\", normal_random)\n",
    "\n",
    "   # 生成二项分布的随机数\n",
    "   binomial_random = np.random.binomial(n=10, p=0.5, size=10)\n",
    "   print(\"二项分布的随机数:\", binomial_random)\n",
    "   ```\n",
    "\n",
    "2. **随机数种子**：\n",
    "   - 随机数种子用于初始化随机数生成器，使得生成的随机数序列可重复。\n",
    "   - 可以使用 `numpy.random.seed()` 函数设置随机数种子。\n",
    "\n",
    "   示例：\n",
    "   ```python\n",
    "   np.random.seed(42)\n",
    "   random_numbers = np.random.rand(5)\n",
    "   print(\"设置种子后的随机数:\", random_numbers)\n",
    "\n",
    "   # 再次设置相同的种子，生成的随机数序列相同\n",
    "   np.random.seed(42)\n",
    "   random_numbers_again = np.random.rand(5)\n",
    "   print(\"再次设置相同种子后的随机数:\", random_numbers_again)\n",
    "   ```\n",
    "\n",
    "3. **常见的随机分布**：\n",
    "   - `np.random.uniform(low, high, size)`: 生成均匀分布的随机数。\n",
    "   - `np.random.normal(loc, scale, size)`: 生成正态分布的随机数。\n",
    "   - `np.random.binomial(n, p, size)`: 生成二项分布的随机数。\n",
    "   - `np.random.poisson(lam, size)`: 生成泊松分布的随机数。\n",
    "   - `np.random.exponential(scale, size)`: 生成指数分布的随机数。\n",
    "\n",
    "   示例：\n",
    "   ```python\n",
    "   # 均匀分布\n",
    "   uniform_random = np.random.uniform(0, 1, size=10)\n",
    "   print(\"均匀分布的随机数:\", uniform_random)\n",
    "\n",
    "   # 正态分布\n",
    "   normal_random = np.random.normal(0, 1, size=10)\n",
    "   print(\"正态分布的随机数:\", normal_random)\n",
    "\n",
    "   # 二项分布\n",
    "   binomial_random = np.random.binomial(n=10, p=0.5, size=10)\n",
    "   print(\"二项分布的随机数:\", binomial_random)\n",
    "\n",
    "   # 泊松分布\n",
    "   poisson_random = np.random.poisson(lam=3.0, size=10)\n",
    "   print(\"泊松分布的随机数:\", poisson_random)\n",
    "\n",
    "   # 指数分布\n",
    "   exponential_random = np.random.exponential(scale=1.0, size=10)\n",
    "   print(\"指数分布的随机数:\", exponential_random)\n",
    "   ```\n",
    "\n",
    "4. **随机数生成器对象**：\n",
    "   - 从 NumPy 1.17.0 开始，推荐使用 `numpy.random.Generator` 类来生成随机数。\n",
    "   - 可以通过 `numpy.random.default_rng()` 创建一个新的随机数生成器对象。\n",
    "\n",
    "   示例：\n",
    "   ```python\n",
    "   rng = np.random.default_rng(42)\n",
    "   random_numbers = rng.random(5)\n",
    "   print(\"使用 Generator 生成的随机数:\", random_numbers)\n",
    "\n",
    "   # 生成均匀分布的随机数\n",
    "   uniform_random = rng.uniform(0, 1, size=10)\n",
    "   print(\"均匀分布的随机数:\", uniform_random)\n",
    "\n",
    "   # 生成正态分布的随机数\n",
    "   normal_random = rng.normal(0, 1, size=10)\n",
    "   print(\"正态分布的随机数:\", normal_random)\n",
    "   ```\n",
    "\n",
    "这些概念和示例展示了如何在 NumPy 中生成各种随机分布的随机数，以及如何使用随机数种子来确保结果的可重复性。希望这些信息对你有所帮助。"
   ]
  },
  {
   "cell_type": "markdown",
   "id": "aff0e90e",
   "metadata": {},
   "source": [
    "## 2. Opencv入门（35）\n",
    "+ 提示：Opencv读取图像后会得到Numpy数组，对图像的操作可直接使用Numpy进行。"
   ]
  },
  {
   "cell_type": "code",
   "execution_count": 4,
   "id": "d9e11eed",
   "metadata": {},
   "outputs": [
    {
     "ename": "ImportError",
     "evalue": "DLL load failed while importing cv2: 找不到指定的模块。",
     "output_type": "error",
     "traceback": [
      "\u001b[1;31m---------------------------------------------------------------------------\u001b[0m",
      "\u001b[1;31mImportError\u001b[0m                               Traceback (most recent call last)",
      "Cell \u001b[1;32mIn[4], line 1\u001b[0m\n\u001b[1;32m----> 1\u001b[0m \u001b[38;5;28;01mimport\u001b[39;00m \u001b[38;5;21;01mcv2\u001b[39;00m\n",
      "\u001b[1;31mImportError\u001b[0m: DLL load failed while importing cv2: 找不到指定的模块。"
     ]
    }
   ],
   "source": [
    "import cv2"
   ]
  },
  {
   "cell_type": "markdown",
   "id": "3c5226db",
   "metadata": {},
   "source": [
    "### 2-1 任选一张彩色图像，读取该图像。（2）"
   ]
  },
  {
   "cell_type": "code",
   "execution_count": null,
   "id": "3fa9af6f",
   "metadata": {},
   "outputs": [],
   "source": []
  },
  {
   "cell_type": "markdown",
   "id": "ca528ff4",
   "metadata": {},
   "source": [
    "### 2-2 输出该图像的形状。（2）"
   ]
  },
  {
   "cell_type": "code",
   "execution_count": null,
   "id": "88e99435",
   "metadata": {},
   "outputs": [],
   "source": []
  },
  {
   "cell_type": "markdown",
   "id": "4f0d3987",
   "metadata": {},
   "source": [
    "### 2-3 输出每一通道的均值、方差。（2\\*2=4）"
   ]
  },
  {
   "cell_type": "code",
   "execution_count": null,
   "id": "41c52e29",
   "metadata": {},
   "outputs": [],
   "source": []
  },
  {
   "cell_type": "markdown",
   "id": "32e022e0",
   "metadata": {},
   "source": [
    "### 2-4 将图像的g波段存储于本文件所在目录下，命名为'g.jpg'。（2）"
   ]
  },
  {
   "cell_type": "code",
   "execution_count": null,
   "id": "28b33069",
   "metadata": {},
   "outputs": [],
   "source": []
  },
  {
   "cell_type": "markdown",
   "id": "6d77f2da",
   "metadata": {},
   "source": [
    "### 2-5 将图像的r、b波段互换，并存储于本文件所在目录下，命名为‘rb.jpg’。（3）"
   ]
  },
  {
   "cell_type": "code",
   "execution_count": null,
   "id": "de55a385",
   "metadata": {},
   "outputs": [],
   "source": []
  },
  {
   "cell_type": "markdown",
   "id": "f462ecae",
   "metadata": {},
   "source": [
    "### 2-6 将图像转化为单波段灰度图，并存储于本文件所在目录下,命名为‘gray.jpg’。（3）"
   ]
  },
  {
   "cell_type": "code",
   "execution_count": null,
   "id": "c5966aae",
   "metadata": {},
   "outputs": [],
   "source": []
  },
  {
   "cell_type": "markdown",
   "id": "264cc897",
   "metadata": {},
   "source": [
    "### 2-7 生成一张大小为200\\*100，rgb波段所有像素均为100的图像，并存储于本文件所在目录下,命名为‘100.jpg’。（3）"
   ]
  },
  {
   "cell_type": "code",
   "execution_count": null,
   "id": "e71fbc98",
   "metadata": {},
   "outputs": [],
   "source": []
  },
  {
   "cell_type": "markdown",
   "id": "ad94a3a8",
   "metadata": {},
   "source": [
    "### 2-8 为你选择的彩色图像的每个波段添加一个均值为0，方差为2的高斯噪声，并存储于本文件所在目录下，命名为‘noise.jpg’。（5）"
   ]
  },
  {
   "cell_type": "code",
   "execution_count": null,
   "id": "5cdd95a1",
   "metadata": {},
   "outputs": [],
   "source": []
  },
  {
   "cell_type": "markdown",
   "id": "df7627b0",
   "metadata": {},
   "source": [
    "### 2-9 任选一段视频，读取该视频。（2）"
   ]
  },
  {
   "cell_type": "code",
   "execution_count": null,
   "id": "1d83ae1f",
   "metadata": {},
   "outputs": [],
   "source": []
  },
  {
   "cell_type": "markdown",
   "id": "f4142fa5",
   "metadata": {},
   "source": [
    "### 2-10 输出该视频的帧率、总帧数、分辨率。（2\\*3=6）"
   ]
  },
  {
   "cell_type": "code",
   "execution_count": null,
   "id": "c850e9a0",
   "metadata": {},
   "outputs": [],
   "source": []
  },
  {
   "cell_type": "markdown",
   "id": "e0336b73",
   "metadata": {},
   "source": [
    "### 2-11 将视频的第三帧保存为图片，并存储于本文件所在目录下，命名为‘frame3.jpg’。（3）"
   ]
  },
  {
   "cell_type": "code",
   "execution_count": null,
   "id": "a8aaf768",
   "metadata": {},
   "outputs": [],
   "source": []
  },
  {
   "cell_type": "markdown",
   "id": "18846fea",
   "metadata": {},
   "source": [
    "OpenCV 是一个强大的计算机视觉库，提供了丰富的图像和视频处理工具。以下是一些常用的 OpenCV 图像和视频处理工具及其示例：\n",
    "\n",
    "### 图像处理工具\n",
    "\n",
    "1. **读取和显示图像**：\n",
    "   - `cv2.imread()`: 读取图像。\n",
    "   - `cv2.imshow()`: 显示图像。\n",
    "   - `cv2.imwrite()`: 保存图像。\n",
    "\n",
    "   示例：\n",
    "   ```python\n",
    "   import cv2\n",
    "\n",
    "   # 读取图像\n",
    "   img = cv2.imread('path/to/image.jpg')\n",
    "\n",
    "   # 显示图像\n",
    "   cv2.imshow('Image', img)\n",
    "   cv2.waitKey(0)\n",
    "   cv2.destroyAllWindows()\n",
    "\n",
    "   # 保存图像\n",
    "   cv2.imwrite('path/to/save_image.jpg', img)\n",
    "   ```\n",
    "\n",
    "2. **图像转换**：\n",
    "   - `cv2.cvtColor()`: 转换图像颜色空间。\n",
    "   - `cv2.resize()`: 调整图像大小。\n",
    "   - `cv2.flip()`: 翻转图像。\n",
    "\n",
    "   示例：\n",
    "   ```python\n",
    "   # 转换为灰度图像\n",
    "   gray_img = cv2.cvtColor(img, cv2.COLOR_BGR2GRAY)\n",
    "\n",
    "   # 调整图像大小\n",
    "   resized_img = cv2.resize(img, (100, 100))\n",
    "\n",
    "   # 翻转图像\n",
    "   flipped_img = cv2.flip(img, 1)  # 水平翻转\n",
    "   ```\n",
    "\n",
    "3. **图像滤波**：\n",
    "   - `cv2.GaussianBlur()`: 高斯模糊。\n",
    "   - `cv2.medianBlur()`: 中值滤波。\n",
    "   - `cv2.bilateralFilter()`: 双边滤波。\n",
    "\n",
    "   示例：\n",
    "   ```python\n",
    "   # 高斯模糊\n",
    "   blurred_img = cv2.GaussianBlur(img, (5, 5), 0)\n",
    "\n",
    "   # 中值滤波\n",
    "   median_img = cv2.medianBlur(img, 5)\n",
    "\n",
    "   # 双边滤波\n",
    "   bilateral_img = cv2.bilateralFilter(img, 9, 75, 75)\n",
    "   ```\n",
    "\n",
    "4. **边缘检测**：\n",
    "   - `cv2.Canny()`: Canny 边缘检测。\n",
    "\n",
    "   示例：\n",
    "   ```python\n",
    "   edges = cv2.Canny(img, 100, 200)\n",
    "   ```\n",
    "\n",
    "5. **形态学操作**：\n",
    "   - `cv2.erode()`: 腐蚀。\n",
    "   - `cv2.dilate()`: 膨胀。\n",
    "   - `cv2.morphologyEx()`: 其他形态学操作（如开运算、闭运算）。\n",
    "\n",
    "   示例：\n",
    "   ```python\n",
    "   kernel = cv2.getStructuringElement(cv2.MORPH_RECT, (5, 5))\n",
    "\n",
    "   # 腐蚀\n",
    "   eroded_img = cv2.erode(img, kernel)\n",
    "\n",
    "   # 膨胀\n",
    "   dilated_img = cv2.dilate(img, kernel)\n",
    "\n",
    "   # 开运算\n",
    "   opened_img = cv2.morphologyEx(img, cv2.MORPH_OPEN, kernel)\n",
    "   ```\n",
    "\n",
    "### 视频处理工具\n",
    "\n",
    "1. **读取和显示视频**：\n",
    "   - `cv2.VideoCapture()`: 打开视频文件或摄像头。\n",
    "   - `cv2.VideoWriter()`: 保存视频。\n",
    "\n",
    "   示例：\n",
    "   ```python\n",
    "   # 打开视频文件\n",
    "   cap = cv2.VideoCapture('path/to/video.mp4')\n",
    "\n",
    "   while cap.isOpened():\n",
    "       ret, frame = cap.read()\n",
    "       if not ret:\n",
    "           break\n",
    "       cv2.imshow('Frame', frame)\n",
    "       if cv2.waitKey(1) & 0xFF == ord('q'):\n",
    "           break\n",
    "\n",
    "   cap.release()\n",
    "   cv2.destroyAllWindows()\n",
    "   ```\n",
    "\n",
    "2. **视频保存**：\n",
    "   ```python\n",
    "   # 打开摄像头\n",
    "   cap = cv2.VideoCapture(0)\n",
    "\n",
    "   # 定义视频编码器和输出文件\n",
    "   fourcc = cv2.VideoWriter_fourcc(*'XVID')\n",
    "   out = cv2.VideoWriter('output.avi', fourcc, 20.0, (640, 480))\n",
    "\n",
    "   while cap.isOpened():\n",
    "       ret, frame = cap.read()\n",
    "       if not ret:\n",
    "           break\n",
    "       out.write(frame)\n",
    "       cv2.imshow('Frame', frame)\n",
    "       if cv2.waitKey(1) & 0xFF == ord('q'):\n",
    "           break\n",
    "\n",
    "   cap.release()\n",
    "   out.release()\n",
    "   cv2.destroyAllWindows()\n",
    "   ```\n",
    "\n",
    "3. **视频帧处理**：\n",
    "   - 可以对每一帧进行图像处理操作，如灰度转换、边缘检测等。\n",
    "\n",
    "   示例：\n",
    "   ```python\n",
    "   cap = cv2.VideoCapture('path/to/video.mp4')\n",
    "\n",
    "   while cap.isOpened():\n",
    "       ret, frame = cap.read()\n",
    "       if not ret:\n",
    "           break\n",
    "       gray_frame = cv2.cvtColor(frame, cv2.COLOR_BGR2GRAY)\n",
    "       edges = cv2.Canny(gray_frame, 100, 200)\n",
    "       cv2.imshow('Edges', edges)\n",
    "       if cv2.waitKey(1) & 0xFF == ord('q'):\n",
    "           break\n",
    "\n",
    "   cap.release()\n",
    "   cv2.destroyAllWindows()\n",
    "   ```\n",
    "\n",
    "这些工具和示例展示了 OpenCV 在图像和视频处理中的一些常见操作。希望这些信息对你有所帮助。"
   ]
  },
  {
   "cell_type": "markdown",
   "id": "427c5820",
   "metadata": {},
   "source": [
    "## 3. Matplotlib入门（15）"
   ]
  },
  {
   "cell_type": "code",
   "execution_count": null,
   "id": "7045a022",
   "metadata": {},
   "outputs": [],
   "source": [
    "import matplotlib.pyplot as plt"
   ]
  },
  {
   "cell_type": "markdown",
   "id": "a900f83a",
   "metadata": {},
   "source": [
    "### 3-1 展示你在2-1中选择的彩色图像以及灰度图像，要求在一张图的两个子图中展示，两个子图在同一行。（3）\n",
    "+ 提示：plt中的波段顺序为rgb，而cv2中的波段顺序为bgr，要获得正确的图像，需要将波段顺序进行调整。"
   ]
  },
  {
   "cell_type": "code",
   "execution_count": null,
   "id": "45701e3d",
   "metadata": {},
   "outputs": [],
   "source": []
  },
  {
   "cell_type": "markdown",
   "id": "0a218cbe",
   "metadata": {},
   "source": [
    "### 3-2 生成一个大小为100\\*100的矩阵，网格中每个点的值为该点的横坐标，自选色带并展示。（2）"
   ]
  },
  {
   "cell_type": "code",
   "execution_count": null,
   "id": "58a4f95e",
   "metadata": {},
   "outputs": [],
   "source": []
  },
  {
   "cell_type": "markdown",
   "id": "96bc1d7c",
   "metadata": {},
   "source": [
    "### 3-3 绘制下列函数的在x=[-10,10]的图像，并标注图例、图名。\n",
    "+ $y=x^2$，线形为实线，线宽为2，颜色为红色。（2）\n",
    "+ $y=x^3$，线形为虚线，线宽为1，颜色为蓝色。（2）\n",
    "+ 将图像保存到本文件所在目录下，命名为‘function.jpg’。（1）"
   ]
  },
  {
   "cell_type": "code",
   "execution_count": null,
   "id": "ce556c79",
   "metadata": {},
   "outputs": [],
   "source": []
  },
  {
   "cell_type": "markdown",
   "id": "e3371c84",
   "metadata": {},
   "source": [
    "### 3-4 对于函数$y=1.4x+0.4$：\n",
    "+ (1) 在x=[-5，5]的范围内绘制函数图像，线形为实线，线宽为2，颜色为红色。（2）\n",
    "+ (2) 在x=[-5，5]的范围内，均匀采样20个点，并添加均值为0，方差为0.1的高斯噪声，绘制散点图。（3）"
   ]
  },
  {
   "cell_type": "code",
   "execution_count": null,
   "id": "3d1ed0c2",
   "metadata": {},
   "outputs": [],
   "source": []
  },
  {
   "cell_type": "markdown",
   "id": "0a361df0",
   "metadata": {},
   "source": [
    "## 4. 采用图像存储信息（15）\n",
    "+ 通常灰度图像的灰度范围为8位，可表示0-255的亮度。\n",
    "+ 除了视觉信息，我们可以尝试在图像中保存一些其他信息。\n",
    "+ 在一张5\\*5大小的灰度图像中，你最多能保存几位$\\pi$?\n",
    "+ 下面给了一个最简单的例子，即每个像素保留一位，共能保留25位（包括整数位3）。\n",
    "+ $\\pi=3.1415926535897932384626433832795028841971693993751058209749445923078164062862089986280348253421170679821480\\\\8651328230664709384460955058223172535940...$"
   ]
  },
  {
   "cell_type": "code",
   "execution_count": 3,
   "id": "bd69d3eb",
   "metadata": {},
   "outputs": [
    {
     "name": "stdout",
     "output_type": "stream",
     "text": [
      "3141592653589793238462643\n"
     ]
    }
   ],
   "source": [
    "def save_pi():\n",
    "    pi_str='3141592653589793238462643383279502884197169399375105820974944592307816406286208998'+\\\n",
    "    '6280348253421170679821480865132823066470938446095505822317253594'\n",
    "    pi_img=np.ndarray((5,5),dtype=np.uint8)\n",
    "    for i in range(25):\n",
    "        row=i//5\n",
    "        col=i%5\n",
    "        pi_img[row][col]=int(pi_str[i])\n",
    "    return pi_img\n",
    "def get_pi(img):\n",
    "    ans=''\n",
    "    for row in range(5):\n",
    "        for col in range(5):\n",
    "            ans+=str(img[row][col])\n",
    "    return ans\n",
    "pi_img=save_pi()\n",
    "pi=get_pi(pi_img)\n",
    "print(pi)"
   ]
  },
  {
   "cell_type": "markdown",
   "id": "cdfd0a72",
   "metadata": {},
   "source": [
    "### 3-1 在下面实现你的save_pi（5）和get_pi（4）。尽可能在5\\*5的图像中存储更多的pi位数，并将save_pi函数返回的图像保存为‘pi.jpg’（1）。"
   ]
  },
  {
   "cell_type": "code",
   "execution_count": null,
   "id": "7c1ac99f",
   "metadata": {},
   "outputs": [],
   "source": [
    "def save_pi():\n",
    "    pass\n",
    "\n",
    "img=save_pi()"
   ]
  },
  {
   "cell_type": "code",
   "execution_count": null,
   "id": "a2ea306c",
   "metadata": {},
   "outputs": [],
   "source": [
    "def get_pi(img):\n",
    "    pass\n",
    "\n",
    "pi=get_pi(img)\n",
    "print(pi)"
   ]
  },
  {
   "cell_type": "markdown",
   "id": "47868b5c",
   "metadata": {},
   "source": [
    "### 3-2 通过matplotlib显示你生成的用于保存$\\pi$的图像。（5）"
   ]
  },
  {
   "cell_type": "code",
   "execution_count": null,
   "id": "12588289",
   "metadata": {},
   "outputs": [],
   "source": []
  },
  {
   "cell_type": "markdown",
   "id": "5aa77ef9",
   "metadata": {},
   "source": [
    "Matplotlib 是一个强大的 Python 绘图库，广泛用于数据可视化。以下是一些常用的 Matplotlib 工具及其示例：\n",
    "\n",
    "### 常用工具\n",
    "\n",
    "1. **基本绘图**：\n",
    "   - `plt.plot()`: 绘制折线图。\n",
    "   - `plt.scatter()`: 绘制散点图。\n",
    "   - `plt.bar()`: 绘制条形图。\n",
    "   - `plt.hist()`: 绘制直方图。\n",
    "   - `plt.pie()`: 绘制饼图。\n",
    "\n",
    "   示例：\n",
    "   ```python\n",
    "   import matplotlib.pyplot as plt\n",
    "\n",
    "   # 折线图\n",
    "   plt.plot([1, 2, 3, 4], [1, 4, 9, 16])\n",
    "   plt.title('Line Plot')\n",
    "   plt.xlabel('X Axis')\n",
    "   plt.ylabel('Y Axis')\n",
    "   plt.show()\n",
    "\n",
    "   # 散点图\n",
    "   plt.scatter([1, 2, 3, 4], [1, 4, 9, 16])\n",
    "   plt.title('Scatter Plot')\n",
    "   plt.xlabel('X Axis')\n",
    "   plt.ylabel('Y Axis')\n",
    "   plt.show()\n",
    "\n",
    "   # 条形图\n",
    "   plt.bar(['A', 'B', 'C', 'D'], [1, 4, 9, 16])\n",
    "   plt.title('Bar Chart')\n",
    "   plt.xlabel('Categories')\n",
    "   plt.ylabel('Values')\n",
    "   plt.show()\n",
    "\n",
    "   # 直方图\n",
    "   data = [1, 2, 2, 3, 3, 3, 4, 4, 4, 4]\n",
    "   plt.hist(data, bins=4)\n",
    "   plt.title('Histogram')\n",
    "   plt.xlabel('Value')\n",
    "   plt.ylabel('Frequency')\n",
    "   plt.show()\n",
    "\n",
    "   # 饼图\n",
    "   sizes = [15, 30, 45, 10]\n",
    "   labels = ['A', 'B', 'C', 'D']\n",
    "   plt.pie(sizes, labels=labels, autopct='%1.1f%%')\n",
    "   plt.title('Pie Chart')\n",
    "   plt.show()\n",
    "   ```\n",
    "\n",
    "2. **子图**：\n",
    "   - `plt.subplot()`: 创建子图。\n",
    "   - `plt.subplots()`: 创建包含多个子图的图形。\n",
    "\n",
    "   示例：\n",
    "   ```python\n",
    "   # 使用 plt.subplot() 创建子图\n",
    "   plt.subplot(2, 1, 1)\n",
    "   plt.plot([1, 2, 3, 4], [1, 4, 9, 16])\n",
    "   plt.title('Subplot 1')\n",
    "\n",
    "   plt.subplot(2, 1, 2)\n",
    "   plt.plot([1, 2, 3, 4], [1, 2, 3, 4])\n",
    "   plt.title('Subplot 2')\n",
    "\n",
    "   plt.tight_layout()\n",
    "   plt.show()\n",
    "\n",
    "   # 使用 plt.subplots() 创建子图\n",
    "   fig, axs = plt.subplots(2, 2)\n",
    "   axs[0, 0].plot([1, 2, 3, 4], [1, 4, 9, 16])\n",
    "   axs[0, 0].set_title('Subplot 1')\n",
    "\n",
    "   axs[0, 1].plot([1, 2, 3, 4], [1, 2, 3, 4])\n",
    "   axs[0, 1].set_title('Subplot 2')\n",
    "\n",
    "   axs[1, 0].scatter([1, 2, 3, 4], [1, 4, 9, 16])\n",
    "   axs[1, 0].set_title('Subplot 3')\n",
    "\n",
    "   axs[1, 1].bar(['A', 'B', 'C', 'D'], [1, 4, 9, 16])\n",
    "   axs[1, 1].set_title('Subplot 4')\n",
    "\n",
    "   plt.tight_layout()\n",
    "   plt.show()\n",
    "   ```\n",
    "\n",
    "3. **自定义图形**：\n",
    "   - `plt.title()`: 设置标题。\n",
    "   - `plt.xlabel()`, `plt.ylabel()`: 设置轴标签。\n",
    "   - `plt.legend()`: 添加图例。\n",
    "   - `plt.grid()`: 添加网格。\n",
    "\n",
    "   示例：\n",
    "   ```python\n",
    "   plt.plot([1, 2, 3, 4], [1, 4, 9, 16], label='Line 1')\n",
    "   plt.plot([1, 2, 3, 4], [1, 2, 3, 4], label='Line 2')\n",
    "   plt.title('Custom Plot')\n",
    "   plt.xlabel('X Axis')\n",
    "   plt.ylabel('Y Axis')\n",
    "   plt.legend()\n",
    "   plt.grid(True)\n",
    "   plt.show()\n",
    "   ```\n",
    "\n",
    "### 图像处理工具\n",
    "\n",
    "Matplotlib 也可以用于简单的图像处理，主要通过 `matplotlib.image` 模块和 `imshow` 函数。\n",
    "\n",
    "1. **读取和显示图像**：\n",
    "   - `plt.imread()`: 读取图像。\n",
    "   - `plt.imshow()`: 显示图像。\n",
    "\n",
    "   示例：\n",
    "   ```python\n",
    "   import matplotlib.pyplot as plt\n",
    "   import matplotlib.image as mpimg\n",
    "\n",
    "   # 读取图像\n",
    "   img = mpimg.imread('path/to/image.jpg')\n",
    "\n",
    "   # 显示图像\n",
    "   plt.imshow(img)\n",
    "   plt.axis('off')  # 隐藏坐标轴\n",
    "   plt.show()\n",
    "   ```\n",
    "\n",
    "2. **图像转换**：\n",
    "   - 可以使用 NumPy 对图像进行处理，因为图像在 Matplotlib 中是作为 NumPy 数组处理的。\n",
    "\n",
    "   示例：\n",
    "   ```python\n",
    "   import numpy as np\n",
    "\n",
    "   # 转换为灰度图像\n",
    "   gray_img = np.dot(img[..., :3], [0.2989, 0.5870, 0.1140])\n",
    "\n",
    "   # 显示灰度图像\n",
    "   plt.imshow(gray_img, cmap='gray')\n",
    "   plt.axis('off')\n",
    "   plt.show()\n",
    "   ```\n",
    "\n",
    "3. **图像裁剪**：\n",
    "   - 可以通过数组切片对图像进行裁剪。\n",
    "\n",
    "   示例：\n",
    "   ```python\n",
    "   # 裁剪图像\n",
    "   cropped_img = img[50:200, 50:200]\n",
    "\n",
    "   # 显示裁剪后的图像\n",
    "   plt.imshow(cropped_img)\n",
    "   plt.axis('off')\n",
    "   plt.show()\n",
    "   ```\n",
    "\n",
    "4. **图像滤波**：\n",
    "   - 可以使用 SciPy 库中的滤波函数对图像进行滤波处理。\n",
    "\n",
    "   示例：\n",
    "   ```python\n",
    "   from scipy.ndimage import gaussian_filter\n",
    "\n",
    "   # 高斯模糊\n",
    "   blurred_img = gaussian_filter(img, sigma=5)\n",
    "\n",
    "   # 显示模糊后的图像\n",
    "   plt.imshow(blurred_img)\n",
    "   plt.axis('off')\n",
    "   plt.show()\n",
    "   ```\n",
    "\n",
    "这些工具和示例展示了 Matplotlib 在数据可视化和简单图像处理中的一些常见操作。希望这些信息对你有所帮助。"
   ]
  },
  {
   "cell_type": "markdown",
   "id": "bd021f02",
   "metadata": {},
   "source": [
    "##### 实验收获与感悟\n",
    "- 请在这里给出你对本次实验的收获与感悟，可以是对本次实验的建议，也可以是对本次实验的心得体会，或者是对本次实验的意见和建议。"
   ]
  }
 ],
 "metadata": {
  "kernelspec": {
   "display_name": "Python 3 (ipykernel)",
   "language": "python",
   "name": "python3"
  },
  "language_info": {
   "codemirror_mode": {
    "name": "ipython",
    "version": 3
   },
   "file_extension": ".py",
   "mimetype": "text/x-python",
   "name": "python",
   "nbconvert_exporter": "python",
   "pygments_lexer": "ipython3",
   "version": "3.11.9"
  }
 },
 "nbformat": 4,
 "nbformat_minor": 5
}
